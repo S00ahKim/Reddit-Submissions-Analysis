{
 "cells": [
  {
   "cell_type": "code",
   "execution_count": 1,
   "metadata": {},
   "outputs": [],
   "source": [
    "from gensim.models.doc2vec import Doc2Vec, TaggedDocument\n",
    "from nltk.tokenize import word_tokenize\n",
    "import pandas as pd\n",
    "from nltk.tokenize import RegexpTokenizer\n",
    "from scipy import spatial"
   ]
  },
  {
   "cell_type": "code",
   "execution_count": 2,
   "metadata": {},
   "outputs": [],
   "source": [
    "def reg_tokenizer(x):\n",
    "    retokenize = RegexpTokenizer(\"[^\\d\\W]+\")\n",
    "    return retokenize.tokenize(x)"
   ]
  },
  {
   "cell_type": "code",
   "execution_count": 7,
   "metadata": {},
   "outputs": [],
   "source": [
    "def introduce_sentence(subreddit):\n",
    "    # 데이터 로드\n",
    "    data = pd.read_csv('./data/combined/{}.csv'.format(subreddit), header = 0)\n",
    "        \n",
    "    # 모델이 있으면 모델 불러오기\n",
    "    try:\n",
    "        model = Doc2Vec.load('./doc2vec/{}'.format(subreddit))\n",
    "\n",
    "    # 없을 경우 모델 생성\n",
    "    except:\n",
    "\n",
    "        # NaN 수정\n",
    "        data['title'].fillna('', inplace = True)\n",
    "        data['selftext'].fillna('', inplace=True)\n",
    "\n",
    "        # 제목과 내용 합침\n",
    "        data['total'] = data['title'] + data['selftext']\n",
    "\n",
    "        # 토크나이저: 숫자가 아닌 문자만 처리\n",
    "        data['token'] = data['total'].apply(reg_tokenizer)\n",
    "\n",
    "        # 이중 리스트로 구성 (for gensim input)\n",
    "        sentences = data['token'].tolist()\n",
    "\n",
    "        # 도큐먼트 index - 토큰화한 도큐먼트 페어\n",
    "        index_document_pair = [\n",
    "            (text, [f\"{i}\",]) for i, text in enumerate(sentences)\n",
    "        ]\n",
    "\n",
    "        # 학습\n",
    "        TRAIN_documents = [TaggedDocument(words=text, tags=tags) for text, tags in index_document_pair]\n",
    "        model = Doc2Vec(TRAIN_documents, vector_size=5, window=3, epochs=40, min_count=0, workers=4)\n",
    "\n",
    "        # 모델 저장\n",
    "        model.save('./doc2vec/{}'.format(subreddit))\n",
    "\n",
    "    # 게시글을 input으로 주거나 자신에 대한 소개 input으로 문장 작성\n",
    "    print(\"게시글을 input으로 주거나 나에 대한 소개글을 작성하세요. ex. I like Sana.\")\n",
    "    sen = input(\">>\").split()\n",
    "\n",
    "    # 모델 기반 벡터 생성\n",
    "    inferred_vector=model.infer_vector(sen)\n",
    "\n",
    "    # 모델 기반 유사한 문서 찾기\n",
    "    sims = model.docvecs.most_similar([inferred_vector], topn=len(model.docvecs))\n",
    "\n",
    "    for sim in sims[:5]:\n",
    "        sim_usr = data.iloc[int(sim[0])]['author']\n",
    "        if sim_usr != \"[deleted]\":\n",
    "            print(sim_usr)\n",
    "        print('')\n"
   ]
  },
  {
   "cell_type": "code",
   "execution_count": 12,
   "metadata": {},
   "outputs": [
    {
     "name": "stdout",
     "output_type": "stream",
     "text": [
      "게시글을 input으로 주거나 나에 대한 소개글을 작성하세요. ex. I like Sana.\n",
      ">>I like Sana\n",
      "bluebetaoddeye\n",
      "\n",
      "ray9\n",
      "\n",
      "sunnyXtzuyu\n",
      "\n",
      "sunnyXtzuyu\n",
      "\n",
      "balloon_wanted\n",
      "\n"
     ]
    }
   ],
   "source": [
    "introduce_sentence(\"kpop\")"
   ]
  }
 ],
 "metadata": {
  "kernelspec": {
   "display_name": "Python 3",
   "language": "python",
   "name": "python3"
  },
  "language_info": {
   "codemirror_mode": {
    "name": "ipython",
    "version": 3
   },
   "file_extension": ".py",
   "mimetype": "text/x-python",
   "name": "python",
   "nbconvert_exporter": "python",
   "pygments_lexer": "ipython3",
   "version": "3.7.3"
  }
 },
 "nbformat": 4,
 "nbformat_minor": 2
}
